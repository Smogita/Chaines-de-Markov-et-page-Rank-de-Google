{
  "cells": [
    {
      "cell_type": "markdown",
      "metadata": {
        "id": "CQPLyjmaRqqs"
      },
      "source": [
        "## Sujets-R5.A.12 - Modélisations mathématiques-2025-2026-ALT\n",
        "\n",
        "# Chaînes de Markov et PageRank de Google\n",
        "\n",
        "- Leonardo CORREIA-MENDES / Groupe 3A BUT3\n",
        "- Diego PENICAUD-BERNAL / Groupe 3A BUT3\n",
        "- Aidan CRISTINI / Groupe 3A BUT3\n",
        "\n",
        "## Sommaire :\n",
        "\n",
        "- Chaînes de Markov :\n",
        "  - Définition mathématique d'une chaîne de Markov\n",
        "  - Histoire et fondemenets des chaînes de Markov\n",
        "  - Exemple de modèles de Markov observable & caché\n",
        "    - Modèle de Markov observable\n",
        "    - Modèle de Markov caché\n",
        "\n",
        "- PageRank de Google :     \n",
        "  - Définition mathématique PageRank\n",
        "  - Foncionnements de l'algorithme PageRank\n",
        "  - Exemples de l'algorithme PageRank\n",
        "\n"
      ]
    },
    {
      "cell_type": "markdown",
      "metadata": {
        "id": "mx_a8ULG-rfF"
      },
      "source": [
        "# Chaînes de Markov :"
      ]
    },
    {
      "cell_type": "markdown",
      "metadata": {
        "id": "PfBH_ORC9_VZ"
      },
      "source": [
        "## Définition mathématique chaîne de Markov :\n",
        "\n",
        "Une chaîne de Markov est un modèle mathématique, basé sur des graphes, utilisé pour représenter des systèmes dans lesquels l’état futur dépend uniquement de l’état actuel, et non des états passés. Dit autrement, toute l’information est contenue dans l’état présent. Pour prédire l’état suivant, il suffit de connaître le dernier état, sans se soucier de la séquence d’états antérieurs.\n"
      ]
    },
    {
      "cell_type": "markdown",
      "metadata": {
        "id": "fqHWt9ZN-ED6"
      },
      "source": [
        "## Histoire et fondements des chaînes de Markov :\n",
        "\n",
        "Les chaînes de Markov apparaissent en 1906 grâce au mathématicien russe Andreï Markov. L’idée ne naît pas dans le vide : Markov voulait répondre à une controverse avec son collègue Pavel Nekrasov. Celui-ci affirmait que la loi des grands nombres, un des résultats centraux de la théorie des probabilités, ne pouvait s’appliquer que si les variables étaient indépendantes. Markov s’oppose fermement à cette vision. Pour le contredire, il entreprend de montrer qu’il est possible d’obtenir les mêmes résultats sans indépendance stricte, à condition que les dépendances soient bien structurées.\n",
        "\n",
        " Il illustre son idée en analysant la suite des lettres dans un poème : Eugène Onéguine. Par ce travail, Markov réussit à démontrer que Nekrasov avait tort : l’indépendance n’est pas nécessaire pour obtenir des résultats probabilistes fondamentaux. Cette volonté de réfuter une idée reçue est directement à l’origine du concept de chaîne de Markov.\n",
        "\n",
        "Au milieu du XXᵉ siècle, des probabilistes comme Doeblin et Feller précisent les théorèmes de convergence. Puis les chaînes de Markov deviennent un outil central en mathématiques appliquées, donnant naissance à des méthodes comme le Monte Carlo par chaînes de Markov (MCMC), utilisées en physique, statistique et informatique.\n",
        "\n"
      ]
    },
    {
      "cell_type": "markdown",
      "metadata": {
        "id": "LQHdas_F-I8J"
      },
      "source": [
        "## Exemple de Modèle de Markov\n",
        "### Modèle Markov  :\n",
        "\n",
        "Considérons la situation qui suit :\n",
        "Vous êtes enfermés chez vous un jour de pluie, et vous aimeriez déterminer le temps qu’il fera lors des cinq prochains jours. mesure stationnaire\n",
        "\n",
        "Comme vous n’êtes pas météorologue, vous vous simplifiez la tâche en faisant l’hypothèse que la météo suit un modèle de Markov: le temps qu’il fait au jour J dépend uniquement du temps qu’il fait au jour J-1.\n",
        "\n",
        "Pour simplifier encore plus, vous considérez qu’il y a seulement trois temps possibles: soleil, nuages ou pluie.\n",
        "\n",
        "En se basant sur les observations des derniers mois, vous établissez le diagramme de transitions suivant :\n",
        "\n",
        "![test](img/meteo_markov.png)\n",
        "\n",
        "La matrice de transition associée est la suivante :\n",
        "\n",
        "![test](img/meteo_matrice.png)\n",
        "\n",
        "Comme le temps d’un jour dépend uniquement du temps qu’il a fait la veille, il suffit de multiplier les probabilités (pour rappel il pleut aujourd’hui):\n",
        "\n",
        "```\n",
        "P (Soleil, Soleil, Pluie, Nuages, Nuages, Soleil | Pluie)\n",
        "= P(Soleil | Pluie)P(Soleil | Soleil)P(Pluie | Soleil)P(Nuages | Pluie)P(Soleil | Nuages)\n",
        "= 0,35 x 0,35 x 0,4 x 0,45 x 0,4\n",
        "= 0,0088\n",
        "```\n",
        "\n",
        "\n",
        "\n",
        "\n",
        "\n",
        "\n"
      ]
    },
    {
      "cell_type": "markdown",
      "metadata": {
        "id": "ZJSGD3G1_Dzr"
      },
      "source": [
        "# PageRank de Google"
      ]
    },
    {
      "cell_type": "markdown",
      "metadata": {
        "id": "hDSsU1cJ-4kG"
      },
      "source": [
        "## Définition mathématique PageRank :\n",
        "\n",
        "Le PageRank est un algorithme mathématique utilisé par Google pour évaluer l’importance des pages web. Sa formule de base, développée par Larry Page et Sergey Brin, repose sur des concepts de théorie des graphes et de probabilités, notamment les chaînes de Markov."
      ]
    },
    {
      "cell_type": "markdown",
      "metadata": {
        "id": "MQsXwfoN-7UG"
      },
      "source": [
        "## Histoire et fondements du PageRank :\n",
        "\n",
        "Le procédé de Pagerank de classement des pages web de Google est à l’origine du succès fulgurant du moteur de recherche le plus utilisé dans le monde.\n",
        "Le Pagerank influence les résultats de recherche en réponse à une requête utilisateur en évaluant la pertinence thématique du contenu par rapport à la recherche de l’utilisateur.\n",
        "\n",
        "Le procédé de Pagerank de classement des pages web de Google a été créé par deux jeunes étudiants de l’université de Stanford : Larry Page et Sergey Brin. En 1996, au cœur de la Silicon Valley, ces deux visionnaires cherchaient un moyen d’organiser les informations sur le web de manière plus intelligente. Le Pagerank, qui tire son nom de Larry Page, repose sur une idée simple mais brillante : toutes les pages web ne se valent pas, et leur importance dépend en grande partie des liens qu’elles reçoivent d’autres pages.  \n",
        "\n"
      ]
    },
    {
      "cell_type": "markdown",
      "metadata": {
        "id": "u6kDsUM8_AEO"
      },
      "source": [
        "## Fonctionnements de l’algorithme PageRank :\n"
      ]
    },
    {
      "cell_type": "markdown",
      "metadata": {
        "id": "HXwy_JXw-9KG"
      },
      "source": [
        "## Exemples de l’algorithme PageRank :\n"
      ]
    },
    {
      "cell_type": "markdown",
      "metadata": {},
      "source": [
        "# note :\n",
        "\n",
        "Une chaîne de Markov est un modèle mathématique qui décrit un système où l’évolution dépend uniquement de l’état actuel, pas du passé complet.\n",
        "\n",
        "Exemple : \n",
        "\n",
        "Une lettre dans un poème russe peut être une voyelle ou une consonne. La probabilité d’avoir une voyelle à la lettre suivante dépend seulement de la lettre actuelle et non d’une lettre 3 pages avant \n",
        "\n",
        "Video : the strange math that predict (almost) anything\n",
        "\n",
        "liens : BU / [perplexity](https://www.perplexity.ai/) / Arxiv [1](https://arxiv.org/abs/2509.04979) - [2](https://arxiv.org/abs/2508.01257) - [3](https://arxiv.org/abs/2506.18356) /  [Wikipédia](https://fr.wikipedia.org/wiki/PageRank#:~:text=Le%20PageRank%20est%20alors%20simplement,ou%20d%C3%A9connexion%20de%20serveur%20web%E2%80%A6))\n",
        "\n",
        "[article-pagerank](https://univ-scholarvox-com.gorgone.univ-toulouse.fr/book/45004294)   [article-pagerank2](https://www-jstor-org.gorgone.univ-toulouse.fr/stable/24778735?sid=primo&seq=1)  [pdf-iut](https://webetud.iut-blagnac.fr/pluginfile.php/58101/mod_resource/content/0/S4-graphes-avances.pdf)\n",
        "\n",
        "Source histoire : \n",
        "\n",
        "*[1](https://perso.math.univ-toulouse.fr/ktanguy/files/2020/03/Chapitre-8-Chaines-de-Markov.pdf#:~:text=terminologie%20provient%20du%20math%C3%A9maticien%20russe,L%E2%80%99histoire%20montre%20que)\n",
        "\n",
        "[2](https://en.wikipedia.org/wiki/Markov_chain#:~:text=was%20interested%20in%20studying%20an,central%20limit%20theorem%20for%20such)\n",
        "\n",
        "[3](https://www.tangente-mag.com/article.php?id=4436#:~:text=ImageC%E2%80%99est%20cette%20observation%20qui%20a,d%C3%A9crire%20un%20syst%C3%A8me%20en%20%C3%A9volution)\n",
        "\n",
        "[4](https://datascientest.com/chaine-de-markov#:~:text=essentielles%20%3A)\n",
        "\n",
        "[5](https://www.imo.universite-paris-saclay.fr/~pierre-loic.meliot/agreg/markov.pdf#:~:text=,donc%20r%C3%A9currents%20et%20visit%C3%A9s%20une)\n",
        "\n",
        "prof : \n",
        "- definir matrice transition leonegro\n",
        "- theoremen de chapman korlogorof\n",
        "- mesure stationnaire deplacement de population leonegro\n",
        "- graph probabiliste devoir calculer le systeme au bout de x cycle leonegro"
      ]
    }
  ],
  "metadata": {
    "colab": {
      "provenance": []
    },
    "kernelspec": {
      "display_name": "Python 3",
      "name": "python3"
    },
    "language_info": {
      "name": "python"
    }
  },
  "nbformat": 4,
  "nbformat_minor": 0
}

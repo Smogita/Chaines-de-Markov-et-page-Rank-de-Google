{
 "cells": [
  {
   "cell_type": "markdown",
   "id": "abacc71d",
   "metadata": {},
   "source": [
    "## Sujets-R5.A.12 - Modélisations mathématiques-2025-2026-ALT\n",
    "\n",
    "# Chaînes de Markov et page Rank de Google\n",
    "\n",
    "- Leonardo CORREIA-MENDES / Groupe 3A BUT3\n",
    "- Diego PENICAUD-BERNAL / Groupe 3A BUT3\n",
    "- Aidan CRISTINI / Groupe 3A BUT3\n",
    "\n",
    "## Sommaire :\n",
    "ne pas oublier d'actualiser de temps en temps je fume la beu\n",
    "\n",
    "- Définition mathématique chaîne de Markov\n",
    "- Histoire et fondemenets des chaînes de Markov\n",
    "- Exemple de Modèle de Markov observable & caché\n",
    "  - Modèle Markov observable :\n",
    "  - Modèle Markov caché :     \n",
    "- Définition mathématique PageRank\n",
    "- Foncionnements de l'algorithme PageRank\n",
    "- Exemples de l'algorithme PageRank"
   ]
  },
  {
   "cell_type": "markdown",
   "id": "e1209877",
   "metadata": {},
   "source": [
    "# Définition mathématique chaîne de Markov :\n",
    "\n",
    "Une chaîne de Markov est un modèle mathématique, basé sur des graphes, utilisé pour représenter des systèmes dans lesquels l’état futur dépend uniquement de l’état actuel, et non des états passés. Dit autrement, toute l’information est contenue dans l’état présent. Pour prédire l’état suivant, il suffit de connaître le dernier état, sans se soucier de la séquence d’états antérieurs.\n"
   ]
  },
  {
   "cell_type": "markdown",
   "id": "c7647316",
   "metadata": {},
   "source": [
    "# Histoire et fondements des chaînes de Markov :\n",
    "\n",
    "Les chaînes de Markov apparaissent en 1906 grâce au mathématicien russe Andreï Markov. L’idée ne naît pas dans le vide : Markov voulait répondre à une controverse avec son collègue Pavel Nekrasov. Celui-ci affirmait que la loi des grands nombres, un des résultats centraux de la théorie des probabilités, ne pouvait s’appliquer que si les variables étaient indépendantes. Markov s’oppose fermement à cette vision. Pour le contredire, il entreprend de montrer qu’il est possible d’obtenir les mêmes résultats sans indépendance stricte, à condition que les dépendances soient bien structurées.\n",
    "\n",
    "Par ce travail, Markov réussit à démontrer que Nekrasov avait tort : l’indépendance n’est pas nécessaire pour obtenir des résultats probabilistes fondamentaux. Cette volonté de réfuter une idée reçue est directement à l’origine du concept de chaîne de Markov.\n",
    "\n",
    "Au milieu du XXᵉ siècle, des probabilistes comme Doeblin et Feller précisent les théorèmes de convergence. Puis les chaînes de Markov deviennent un outil central en mathématiques appliquées, donnant naissance à des méthodes comme le Monte Carlo par chaînes de Markov (MCMC), utilisées en physique, statistique et informatique.\n",
    "\n"
   ]
  },
  {
   "cell_type": "markdown",
   "id": "6d01bc3c",
   "metadata": {},
   "source": [
    "# Exemple de Modèle de Markov observable\n",
    "\n",
    "Considérons la situation qui suit :\n",
    "Vous êtes bientôt maire d'une ville et voulez observer les déplacements des habitants de votre ville.\n",
    "Comme vous n’êtes pas encore maire, vous devez faire des hypothèses, notamment que les déplacements suivent un modèle de Markov: les déplacements des habitants au jour J dépend uniquement des emplacements au jour J-1.\n",
    "Pour simplifier encore plus, vous considérez qu’il y a seulement trois quartiers possibles: A, B ou C.\n",
    "En se basant sur les observations des derniers mois, vous établissez le diagramme de transitions suivant :\n",
    "\n",
    "La matrice de transition associée est\n",
    "\n",
    "Comme le temps d’un jour dépend uniquement du temps qu’il a fait la veille, il suffit de multiplier les probabilités (pour rappel il pleut aujourd’hui):\n",
    "\n",
    "```\n",
    "P (Soleil, Soleil, Pluie, Nuages, Nuages, Soleil | Pluie)\n",
    "= P(Soleil | Pluie)P(Soleil | Soleil)P(Pluie | Soleil)P(Nuages | Pluie)P(Soleil | Nuages)\n",
    "= 0,35 x 0,35 x 0,4 x 0,45 x 0,4\n",
    "= 0,0088\n",
    "```\n"
   ]
  },
  {
   "cell_type": "markdown",
   "id": "eec2198e",
   "metadata": {},
   "source": [
    "# Définition mathématique PageRank :\n",
    "\n",
    "Le PageRank est un algorithme mathématique utilisé par Google pour évaluer l’importance des pages web. Sa formule de base, développée par Larry Page et Sergey Brin, repose sur des concepts de théorie des graphes et de probabilités, notamment les chaînes de Markov."
   ]
  },
  {
   "cell_type": "markdown",
   "id": "2e8eab3f",
   "metadata": {},
   "source": [
    "# Histoire et fondements du PageRank :\n",
    "\n",
    "Le procédé de Pagerank de classement des pages web de Google est à l’origine du succès fulgurant du moteur de recherche le plus utilisé dans le monde.\n",
    "Le Pagerank influence les résultats de recherche en réponse à une requête utilisateur en évaluant la pertinence thématique du contenu par rapport à la recherche de l’utilisateur.\n",
    "\n",
    "Le procédé de Pagerank de classement des pages web de Google a été créé par deux jeunes étudiants de l’université de Stanford : Larry Page et Sergey Brin. En 1996, au cœur de la Silicon Valley, ces deux visionnaires cherchaient un moyen d’organiser les informations sur le web de manière plus intelligente. Le Pagerank, qui tire son nom de Larry Page, repose sur une idée simple mais brillante : toutes les pages web ne se valent pas, et leur importance dépend en grande partie des liens qu’elles reçoivent d’autres pages.  \n",
    "\n"
   ]
  },
  {
   "cell_type": "markdown",
   "id": "85e2c045",
   "metadata": {},
   "source": [
    "# Fonctionnements de l’algorithme PageRank :\n"
   ]
  },
  {
   "cell_type": "markdown",
   "id": "d46c4902",
   "metadata": {},
   "source": [
    "# Exemples de l’algorithme PageRank :\n"
   ]
  }
 ],
 "metadata": {
  "language_info": {
   "name": "python"
  }
 },
 "nbformat": 4,
 "nbformat_minor": 5
}

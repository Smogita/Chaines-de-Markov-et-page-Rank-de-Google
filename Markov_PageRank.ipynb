{
  "cells": [
    {
      "cell_type": "markdown",
      "metadata": {
        "id": "CQPLyjmaRqqs"
      },
      "source": [
        "## Sujets-R5.A.12 - Modélisations mathématiques-2025-2026-ALT\n",
        "\n",
        "# Chaînes de Markov et PageRank de Google\n",
        "\n",
        "- Leonardo CORREIA-MENDES / Groupe 3A BUT3\n",
        "- Diego PENICAUD-BERNAL / Groupe 3A BUT3\n",
        "- Aidan CRISTINI / Groupe 3A BUT3\n",
        "\n",
        "## Sommaire :\n",
        "\n",
        "- Chaînes de Markov :\n",
        "  - Définition mathématique d'une chaîne de Markov\n",
        "  - Histoire et fondemenets des chaînes de Markov\n",
        "  - Exemple de modèles de Markov observable & caché\n",
        "    - Modèle de Markov observable\n",
        "    - Modèle de Markov caché\n",
        "\n",
        "- PageRank de Google :     \n",
        "  - Définition mathématique PageRank\n",
        "  - Foncionnements de l'algorithme PageRank\n",
        "  - Exemples de l'algorithme PageRank\n",
        "\n"
      ]
    },
    {
      "cell_type": "markdown",
      "metadata": {
        "id": "mx_a8ULG-rfF"
      },
      "source": [
        "# Chaînes de Markov :"
      ]
    },
    {
      "cell_type": "markdown",
      "metadata": {
        "id": "PfBH_ORC9_VZ"
      },
      "source": [
        "## Définition mathématique chaîne de Markov :\n",
        "\n",
        "Une chaîne de Markov est un modèle mathématique, basé sur des graphes, utilisé pour représenter des systèmes dans lesquels l’état futur dépend uniquement de l’état actuel, et non des états passés. Dit autrement, toute l’information est contenue dans l’état présent. Pour prédire l’état suivant, il suffit de connaître le dernier état, sans se soucier de la séquence d’états antérieurs.\n"
      ]
    },
    {
      "cell_type": "markdown",
      "metadata": {
        "id": "fqHWt9ZN-ED6"
      },
      "source": [
        "## Histoire et fondements des chaînes de Markov :\n",
        "\n",
        "Les chaînes de Markov apparaissent en 1906 grâce au mathématicien russe Andreï Markov. L’idée ne naît pas dans le vide : Markov voulait répondre à une controverse avec son collègue Pavel Nekrasov. Celui-ci affirmait que la loi des grands nombres, un des résultats centraux de la théorie des probabilités, ne pouvait s’appliquer que si les variables étaient indépendantes. Markov s’oppose fermement à cette vision. Pour le contredire, il entreprend de montrer qu’il est possible d’obtenir les mêmes résultats sans indépendance stricte, à condition que les dépendances soient bien structurées.\n",
        "\n",
        " Il illustre son idée en analysant la suite des lettres dans un poème : Eugène Onéguine. Par ce travail, Markov réussit à démontrer que Nekrasov avait tort : l’indépendance n’est pas nécessaire pour obtenir des résultats probabilistes fondamentaux. Cette volonté de réfuter une idée reçue est directement à l’origine du concept de chaîne de Markov.\n",
        "\n",
        "Au milieu du XXᵉ siècle, des probabilistes comme Doeblin et Feller précisent les théorèmes de convergence. Puis les chaînes de Markov deviennent un outil central en mathématiques appliquées, donnant naissance à des méthodes comme le Monte Carlo par chaînes de Markov (MCMC), utilisées en physique, statistique et informatique.\n",
        "\n"
      ]
    },
    {
      "cell_type": "markdown",
      "metadata": {
        "id": "LQHdas_F-I8J"
      },
      "source": [
        "## Exemple de Modèle de Markov\n",
        "### Modèle Markov  :\n",
        "\n",
        "Considérons la situation qui suit :\n",
        "Vous êtes enfermés chez vous un jour de pluie, et vous aimeriez déterminer le temps qu’il fera lors des cinq prochains jours. mesure stationnaire\n",
        "\n",
        "Comme vous n’êtes pas météorologue, vous vous simplifiez la tâche en faisant l’hypothèse que la météo suit un modèle de Markov: le temps qu’il fait au jour J dépend uniquement du temps qu’il fait au jour J-1.\n",
        "\n",
        "Pour simplifier encore plus, vous considérez qu’il y a seulement trois temps possibles: soleil, nuages ou pluie.\n",
        "\n",
        "En se basant sur les observations des derniers mois, vous établissez le diagramme de transitions suivant :\n",
        "\n",
        "![test](img/meteo_markov.png)\n",
        "\n",
        "La matrice de transition associée est la suivante :\n",
        "\n",
        "![test](img/meteo_matrice.png)\n",
        "\n",
        "Pour rappel, cette matrice se lit de cette manière : \n",
        "\n",
        "La probabilité qu’il fasse beau demain sachant qu’il pleut aujourd’hui est de 35%\n",
        "La probabilité qu’il y ait des nuages demain sachant qu’il y en a déjà aujourd’hui est de 25%\n",
        "Calculons la probabilité que le temps des cinq prochains jours soit “soleil, soleil, pluie, nuages, soleil”.\n",
        "\n",
        "Comme le temps d’un jour dépend uniquement du temps qu’il a fait la veille, il suffit de multiplier les probabilités (pour rappel il pleut aujourd’hui):\n",
        "\n",
        "```\n",
        "P (Soleil, Soleil, Pluie, Nuages, Nuages, Soleil | Pluie)\n",
        "= P(Soleil | Pluie)P(Soleil | Soleil)P(Pluie | Soleil)P(Nuages | Pluie)P(Soleil | Nuages)\n",
        "= 0,35 x 0,35 x 0,4 x 0,45 x 0,4\n",
        "= 0,0088\n",
        "```\n",
        "\n",
        "On peut calculer cette probabilité pour toutes les combinaisons possibles, et sélectionner la combinaison avec la probabilité la plus grande pour répondre à la problématique.\n",
        "\n",
        "Dans notre cas, voici les cinq combinaisons qui ont le plus de chance d'être réalisées :\n"
      ]
    },
    {
      "cell_type": "code",
      "execution_count": 3,
      "metadata": {},
      "outputs": [
        {
          "name": "stdout",
          "output_type": "stream",
          "text": [
            "Requirement already satisfied: pandas in c:\\users\\diego\\appdata\\local\\packages\\pythonsoftwarefoundation.python.3.11_qbz5n2kfra8p0\\localcache\\local-packages\\python311\\site-packages (2.3.2)\n",
            "Requirement already satisfied: numpy>=1.23.2 in c:\\users\\diego\\appdata\\local\\packages\\pythonsoftwarefoundation.python.3.11_qbz5n2kfra8p0\\localcache\\local-packages\\python311\\site-packages (from pandas) (2.1.2)\n",
            "Requirement already satisfied: python-dateutil>=2.8.2 in c:\\users\\diego\\appdata\\local\\packages\\pythonsoftwarefoundation.python.3.11_qbz5n2kfra8p0\\localcache\\local-packages\\python311\\site-packages (from pandas) (2.9.0.post0)\n",
            "Requirement already satisfied: pytz>=2020.1 in c:\\users\\diego\\appdata\\local\\packages\\pythonsoftwarefoundation.python.3.11_qbz5n2kfra8p0\\localcache\\local-packages\\python311\\site-packages (from pandas) (2025.2)\n",
            "Requirement already satisfied: tzdata>=2022.7 in c:\\users\\diego\\appdata\\local\\packages\\pythonsoftwarefoundation.python.3.11_qbz5n2kfra8p0\\localcache\\local-packages\\python311\\site-packages (from pandas) (2025.2)\n",
            "Requirement already satisfied: six>=1.5 in c:\\users\\diego\\appdata\\local\\packages\\pythonsoftwarefoundation.python.3.11_qbz5n2kfra8p0\\localcache\\local-packages\\python311\\site-packages (from python-dateutil>=2.8.2->pandas) (1.16.0)\n",
            "Note: you may need to restart the kernel to use updated packages.\n"
          ]
        },
        {
          "name": "stderr",
          "output_type": "stream",
          "text": [
            "\n",
            "[notice] A new release of pip is available: 25.1.1 -> 25.2\n",
            "[notice] To update, run: C:\\Users\\diego\\AppData\\Local\\Microsoft\\WindowsApps\\PythonSoftwareFoundation.Python.3.11_qbz5n2kfra8p0\\python.exe -m pip install --upgrade pip\n"
          ]
        },
        {
          "data": {
            "text/html": [
              "<div>\n",
              "<style scoped>\n",
              "    .dataframe tbody tr th:only-of-type {\n",
              "        vertical-align: middle;\n",
              "    }\n",
              "\n",
              "    .dataframe tbody tr th {\n",
              "        vertical-align: top;\n",
              "    }\n",
              "\n",
              "    .dataframe thead th {\n",
              "        text-align: right;\n",
              "    }\n",
              "</style>\n",
              "<table border=\"1\" class=\"dataframe\">\n",
              "  <thead>\n",
              "    <tr style=\"text-align: right;\">\n",
              "      <th></th>\n",
              "      <th>J+1</th>\n",
              "      <th>J+2</th>\n",
              "      <th>J+3</th>\n",
              "      <th>J+4</th>\n",
              "      <th>J+5</th>\n",
              "      <th>Probabilité (%)</th>\n",
              "    </tr>\n",
              "  </thead>\n",
              "  <tbody>\n",
              "    <tr>\n",
              "      <th>46</th>\n",
              "      <td>Nuages</td>\n",
              "      <td>Soleil</td>\n",
              "      <td>Pluie</td>\n",
              "      <td>Nuages</td>\n",
              "      <td>Soleil</td>\n",
              "      <td>1.296000</td>\n",
              "    </tr>\n",
              "    <tr>\n",
              "      <th>178</th>\n",
              "      <td>Nuages</td>\n",
              "      <td>Pluie</td>\n",
              "      <td>Nuages</td>\n",
              "      <td>Soleil</td>\n",
              "      <td>Pluie</td>\n",
              "      <td>1.134000</td>\n",
              "    </tr>\n",
              "    <tr>\n",
              "      <th>136</th>\n",
              "      <td>Nuages</td>\n",
              "      <td>Soleil</td>\n",
              "      <td>Soleil</td>\n",
              "      <td>Pluie</td>\n",
              "      <td>Nuages</td>\n",
              "      <td>1.134000</td>\n",
              "    </tr>\n",
              "    <tr>\n",
              "      <th>208</th>\n",
              "      <td>Nuages</td>\n",
              "      <td>Soleil</td>\n",
              "      <td>Pluie</td>\n",
              "      <td>Nuages</td>\n",
              "      <td>Pluie</td>\n",
              "      <td>1.134000</td>\n",
              "    </tr>\n",
              "    <tr>\n",
              "      <th>151</th>\n",
              "      <td>Nuages</td>\n",
              "      <td>Pluie</td>\n",
              "      <td>Nuages</td>\n",
              "      <td>Pluie</td>\n",
              "      <td>Nuages</td>\n",
              "      <td>1.116281</td>\n",
              "    </tr>\n",
              "  </tbody>\n",
              "</table>\n",
              "</div>"
            ],
            "text/plain": [
              "        J+1     J+2     J+3     J+4     J+5  Probabilité (%)\n",
              "46   Nuages  Soleil   Pluie  Nuages  Soleil         1.296000\n",
              "178  Nuages   Pluie  Nuages  Soleil   Pluie         1.134000\n",
              "136  Nuages  Soleil  Soleil   Pluie  Nuages         1.134000\n",
              "208  Nuages  Soleil   Pluie  Nuages   Pluie         1.134000\n",
              "151  Nuages   Pluie  Nuages   Pluie  Nuages         1.116281"
            ]
          },
          "execution_count": 3,
          "metadata": {},
          "output_type": "execute_result"
        }
      ],
      "source": [
        "# install pandas if not already installed\n",
        "%pip install pandas\n",
        "\n",
        "# importation des librairies dont on va avoir besoin\n",
        "import numpy as np\n",
        "import pandas as pd\n",
        "\n",
        "# création d'une fonction qui énumère toutes les combinaisons de taille k faites avec les chiffres entre 0 et n-1\n",
        "def combinaisons(k, n): \n",
        "    nombre_combinaisons = n**k\n",
        "    combinaisons = []\n",
        "    for combinaison in range(nombre_combinaisons):\n",
        "        v = combinaison\n",
        "        comb = []\n",
        "        for j in range(k):\n",
        "            comb.append(v%n)\n",
        "            v = v//n\n",
        "        combinaisons.append(comb)\n",
        "    return combinaisons  \n",
        "combi = np.array(combinaisons(5,3)) # énumération des combinaisons de taille 5 composées de 0, 1 et 2. (on prendra 0->Soleil, 1->Nuages, 2->Pluie)\n",
        "\n",
        "# matrice de transition\n",
        "A = [[0.35, 0.4, 0.35],\n",
        "     [0.25, 0.25, 0.45],\n",
        "     [0.4, 0.35, 0.2]]\n",
        "\n",
        "# probabilité de réalisation des combinaisons\n",
        "proba = np.zeros((len(combi), 1))\n",
        "for ligne, suite in enumerate(combi):\n",
        "    proba[ligne][0] = A[suite[0]][2]\\\n",
        "                     *A[suite[1]][suite[0]]\\\n",
        "                     *A[suite[2]][suite[1]]\\\n",
        "                     *A[suite[3]][suite[2]]\\\n",
        "                     *A[suite[4]][suite[3]]\\\n",
        "                     *100                       # pour passer en % \n",
        "\n",
        "# concaténation des combinaisons et de leur probabilité d'être réalisées en un dataframe\n",
        "result = pd.DataFrame(np.concatenate([combi, proba], axis = 1), columns = ['J+1', 'J+2', 'J+3', 'J+4', 'J+5', 'Probabilité (%)'])\n",
        "\n",
        "result[[\"J+1\", \"J+2\", \"J+3\", \"J+4\", \"J+5\"]] = result[[\"J+1\", \"J+2\", \"J+3\", \"J+4\", \"J+5\"]].replace([0, 1, 2], [\"Soleil\", \"Nuages\", \"Pluie\"])  # 0,1,2 deviennent respectivement Soleil,Nuages,Pluie\n",
        "result.sort_values(by = [\"Probabilité (%)\"], axis = 0, ascending = False).head()  # affichage des 5 combinaisons les plus probables"
      ]
    },
    {
      "cell_type": "markdown",
      "metadata": {
        "id": "ZJSGD3G1_Dzr"
      },
      "source": [
        "# PageRank de Google"
      ]
    },
    {
      "cell_type": "markdown",
      "metadata": {
        "id": "hDSsU1cJ-4kG"
      },
      "source": [
        "## Définition mathématique PageRank :\n",
        "\n",
        "Le PageRank est un algorithme mathématique utilisé par Google pour évaluer l’importance des pages web. Sa formule de base, développée par Larry Page et Sergey Brin, repose sur des concepts de théorie des graphes et de probabilités, notamment les chaînes de Markov."
      ]
    },
    {
      "cell_type": "markdown",
      "metadata": {
        "id": "MQsXwfoN-7UG"
      },
      "source": [
        "## Histoire et fondements du PageRank :\n",
        "\n",
        "Le procédé de Pagerank de classement des pages web de Google est à l’origine du succès fulgurant du moteur de recherche le plus utilisé dans le monde.\n",
        "Le Pagerank influence les résultats de recherche en réponse à une requête utilisateur en évaluant la pertinence thématique du contenu par rapport à la recherche de l’utilisateur.\n",
        "\n",
        "Le procédé de Pagerank de classement des pages web de Google a été créé par deux jeunes étudiants de l’université de Stanford : Larry Page et Sergey Brin. En 1996, au cœur de la Silicon Valley, ces deux visionnaires cherchaient un moyen d’organiser les informations sur le web de manière plus intelligente. Le Pagerank, qui tire son nom de Larry Page, repose sur une idée simple mais brillante : toutes les pages web ne se valent pas, et leur importance dépend en grande partie des liens qu’elles reçoivent d’autres pages.  \n",
        "\n"
      ]
    },
    {
      "cell_type": "markdown",
      "metadata": {
        "id": "u6kDsUM8_AEO"
      },
      "source": [
        "## Fonctionnements de l’algorithme PageRank :\n"
      ]
    },
    {
      "cell_type": "markdown",
      "metadata": {
        "id": "HXwy_JXw-9KG"
      },
      "source": [
        "## Exemples de l’algorithme PageRank :\n"
      ]
    },
    {
      "cell_type": "markdown",
      "metadata": {},
      "source": [
        "# note :\n",
        "\n",
        "Une chaîne de Markov est un modèle mathématique qui décrit un système où l’évolution dépend uniquement de l’état actuel, pas du passé complet.\n",
        "\n",
        "Exemple : \n",
        "\n",
        "Une lettre dans un poème russe peut être une voyelle ou une consonne. La probabilité d’avoir une voyelle à la lettre suivante dépend seulement de la lettre actuelle et non d’une lettre 3 pages avant \n",
        "\n",
        "Video : the strange math that predict (almost) anything\n",
        "\n",
        "liens : BU / [perplexity](https://www.perplexity.ai/) / Arxiv [1](https://arxiv.org/abs/2509.04979) - [2](https://arxiv.org/abs/2508.01257) - [3](https://arxiv.org/abs/2506.18356) /  [Wikipédia](https://fr.wikipedia.org/wiki/PageRank#:~:text=Le%20PageRank%20est%20alors%20simplement,ou%20d%C3%A9connexion%20de%20serveur%20web%E2%80%A6))\n",
        "\n",
        "[article-pagerank](https://univ-scholarvox-com.gorgone.univ-toulouse.fr/book/45004294)   [article-pagerank2](https://www-jstor-org.gorgone.univ-toulouse.fr/stable/24778735?sid=primo&seq=1)  [pdf-iut](https://webetud.iut-blagnac.fr/pluginfile.php/58101/mod_resource/content/0/S4-graphes-avances.pdf)\n",
        "\n",
        "Source histoire : \n",
        "\n",
        "*[1](https://perso.math.univ-toulouse.fr/ktanguy/files/2020/03/Chapitre-8-Chaines-de-Markov.pdf#:~:text=terminologie%20provient%20du%20math%C3%A9maticien%20russe,L%E2%80%99histoire%20montre%20que)\n",
        "\n",
        "[2](https://en.wikipedia.org/wiki/Markov_chain#:~:text=was%20interested%20in%20studying%20an,central%20limit%20theorem%20for%20such)\n",
        "\n",
        "[3](https://www.tangente-mag.com/article.php?id=4436#:~:text=ImageC%E2%80%99est%20cette%20observation%20qui%20a,d%C3%A9crire%20un%20syst%C3%A8me%20en%20%C3%A9volution)\n",
        "\n",
        "[4](https://datascientest.com/chaine-de-markov#:~:text=essentielles%20%3A)\n",
        "\n",
        "[5](https://www.imo.universite-paris-saclay.fr/~pierre-loic.meliot/agreg/markov.pdf#:~:text=,donc%20r%C3%A9currents%20et%20visit%C3%A9s%20une)\n",
        "\n",
        "prof : \n",
        "- definir matrice transition leonegro\n",
        "- theoremen de chapman korlogorof\n",
        "- mesure stationnaire deplacement de population leonegro\n",
        "- graph probabiliste devoir calculer le systeme au bout de x cycle leonegro"
      ]
    }
  ],
  "metadata": {
    "colab": {
      "provenance": []
    },
    "kernelspec": {
      "display_name": "Python 3",
      "name": "python3"
    },
    "language_info": {
      "codemirror_mode": {
        "name": "ipython",
        "version": 3
      },
      "file_extension": ".py",
      "mimetype": "text/x-python",
      "name": "python",
      "nbconvert_exporter": "python",
      "pygments_lexer": "ipython3",
      "version": "3.11.9"
    }
  },
  "nbformat": 4,
  "nbformat_minor": 0
}
